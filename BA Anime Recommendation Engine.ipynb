{
 "cells": [
  {
   "cell_type": "markdown",
   "id": "d37b4df0",
   "metadata": {},
   "source": [
    "# Importing Packages & Setting Color Palette"
   ]
  },
  {
   "cell_type": "code",
   "execution_count": 5,
   "id": "eec18711",
   "metadata": {},
   "outputs": [],
   "source": [
    "import pandas as pd\n",
    "import numpy as np\n",
    "import scipy.stats\n",
    "import seaborn as sns\n",
    "import datetime as dt\n",
    "import matplotlib.pyplot as plt\n",
    "from matplotlib.pyplot import figure\n",
    "\n",
    "\n",
    "%matplotlib inline\n",
    "sns.set(rc={'figure.figsize':(8,6)})\n",
    "sns.set_style(\"darkgrid\", {\"axes.facecolor\": \".93\"})\n",
    "\n",
    "palette = [ '#00BFC4' ,'#F8766D', '#0085C7', '#000000', \"#FFCE54\", '#A1469E']\n",
    "sns.set_palette(palette)"
   ]
  },
  {
   "cell_type": "markdown",
   "id": "6dcb3b17",
   "metadata": {},
   "source": [
    "# Just Some Words of Encouragement"
   ]
  },
  {
   "cell_type": "code",
   "execution_count": 6,
   "id": "7acac7c8",
   "metadata": {},
   "outputs": [
    {
     "name": "stdout",
     "output_type": "stream",
     "text": [
      "Hellooo World\n",
      "Life is gonna be great, just you hang in there, my bruv\n"
     ]
    }
   ],
   "source": [
    "print(\"Hellooo World\")\n",
    "print(\"Life is gonna be great, just you hang in there, my bruv\")"
   ]
  },
  {
   "cell_type": "markdown",
   "id": "23eac61e",
   "metadata": {},
   "source": [
    "# Real Shit Begins"
   ]
  },
  {
   "cell_type": "code",
   "execution_count": null,
   "id": "8436eecd",
   "metadata": {},
   "outputs": [],
   "source": []
  }
 ],
 "metadata": {
  "kernelspec": {
   "display_name": "Python 3",
   "language": "python",
   "name": "python3"
  },
  "language_info": {
   "codemirror_mode": {
    "name": "ipython",
    "version": 3
   },
   "file_extension": ".py",
   "mimetype": "text/x-python",
   "name": "python",
   "nbconvert_exporter": "python",
   "pygments_lexer": "ipython3",
   "version": "3.8.8"
  }
 },
 "nbformat": 4,
 "nbformat_minor": 5
}
